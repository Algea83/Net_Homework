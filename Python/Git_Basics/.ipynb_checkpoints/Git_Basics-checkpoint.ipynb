{
 "cells": [
  {
   "cell_type": "markdown",
   "metadata": {},
   "source": [
    "# Задание 1\n",
    "**Мы должны удостовериться, что вы установили требуемое ПО перед содержательной частью курса. Необходимо прикрепить скриншот запущенного Jupyter Notebook на вашем ПК.**\n",
    "\n",
    "https://pastenow.ru/627d3a01409183c07a8d92ae150bb25b\n",
    "\n",
    "\n",
    "# Задание 2\n",
    "### Обязательная часть\n",
    "**Пришлите скриншоты, которые будут демонстрировать, что вы прошли первые 4 уровня из раздела \"Основы\" и первые 6 уровней из раздела \"Удаленные репозитории\" на интерактивном тренажере Git.**\n",
    "\n",
    "https://pastenow.ru/fe1f76645257b5b3279b0368e17669a8\n",
    "\n",
    "https://pastenow.ru/6754794adaf425c1510eeb893220a459\n",
    "\n",
    "# Задание 3\n",
    "**Подготовьте и пришлите ссылку на репозиторий, в котором вы будете размещать домашние работы по курсу. Структура репозитория может быть любая, но самый очевидный вариант – своя отдельная папка для каждой лекции.\n",
    "Внимание! Git не работает с пустыми папками. О том, как решить эту проблему, можете почитать, например, здесь.**\n",
    "\n",
    "https://github.com/Algea83/Net_Homework.git"
   ]
  },
  {
   "cell_type": "code",
   "execution_count": 1,
   "metadata": {},
   "outputs": [
    {
     "name": "stdout",
     "output_type": "stream",
     "text": [
      "It works!\n"
     ]
    }
   ],
   "source": [
    "twenty_seven_pilots = 27\n",
    "twenty_seven_pilots = print('It works!')"
   ]
  }
 ],
 "metadata": {
  "kernelspec": {
   "display_name": "Python 3",
   "language": "python",
   "name": "python3"
  },
  "language_info": {
   "codemirror_mode": {
    "name": "ipython",
    "version": 3
   },
   "file_extension": ".py",
   "mimetype": "text/x-python",
   "name": "python",
   "nbconvert_exporter": "python",
   "pygments_lexer": "ipython3",
   "version": "3.8.5"
  }
 },
 "nbformat": 4,
 "nbformat_minor": 4
}
