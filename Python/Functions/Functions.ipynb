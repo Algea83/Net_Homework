{
 "cells": [
  {
   "cell_type": "markdown",
   "metadata": {},
   "source": [
    "## Задание 1\n",
    "**Пункт 1. Пользователь по команде “p” может узнать владельца документа по его номеру**"
   ]
  },
  {
   "cell_type": "code",
   "execution_count": 9,
   "metadata": {},
   "outputs": [
    {
     "name": "stdout",
     "output_type": "stream",
     "text": [
      "Меню программы:\n",
      "        p - узнать владельца документа по номеру документа\n",
      "        s - узнать полку хранения документа по номеру документа\n",
      "        l - запрос полной информации по всем документам\n",
      "        as - добавить новую полку в данные\n",
      "        ds - удалить пустую существующую полку из данных\n",
      "        q - завершить работу программы\n",
      "        \n"
     ]
    },
    {
     "name": "stdin",
     "output_type": "stream",
     "text": [
      "Enter a number:  10006\n"
     ]
    },
    {
     "name": "stdout",
     "output_type": "stream",
     "text": [
      "Аристарх Павлов\n",
      "None\n"
     ]
    }
   ],
   "source": [
    "documents = [\n",
    "{'type': 'passport', 'number': '2207 876234', 'name': 'Василий Гупкин'},\n",
    "{'type': 'invoice', 'number': '11-2', 'name': 'Геннадий Покемонов'},\n",
    "{'type': 'insurance', 'number': '10006', 'name': 'Аристарх Павлов'}\n",
    "]\n",
    "\n",
    "directories = {\n",
    "'1': ['2207 876234', '11-2'],\n",
    "'2': ['10006'],\n",
    "'3': []\n",
    "}\n",
    "\n",
    "\n",
    "print(\"\"\"Меню программы:\n",
    "        p - узнать владельца документа по номеру документа\n",
    "        s - узнать полку хранения документа по номеру документа\n",
    "        l - запрос полной информации по всем документам\n",
    "        as - добавить новую полку в данные\n",
    "        ds - удалить пустую существующую полку из данных\n",
    "        q - завершить работу программы\n",
    "        \"\"\")\n",
    "\n",
    "\n",
    "\"\"\"while True:\n",
    "    select = input('Выберите пункт меню: ')\n",
    "    if select == 'q':\n",
    "        print('Quit')\n",
    "        break\n",
    "        \n",
    "    elif select == 'p':\n",
    "        print('P')\n",
    "    \n",
    "    \n",
    "    elif select == 's':\n",
    "        print('S')\n",
    "    \n",
    "    \n",
    "    elif select == 'l':\n",
    "        print('L')\n",
    "    \n",
    "    \n",
    "    elif select == 'as':\n",
    "        print('AS')\n",
    "        \n",
    "        \n",
    "    elif select == 'ds':\n",
    "        print('DS')\n",
    "        \n",
    "        \n",
    "    else:\n",
    "        print('Incorrect!')\n",
    "\n",
    "\"\"\"\n",
    "\n",
    "number = input('Enter a number: ')\n",
    "for i in range(len(documents)):\n",
    "    if documents[i]['number'] == number:\n",
    "        print(documents[i]['name'])\n",
    "print('None')\n"
   ]
  }
 ],
 "metadata": {
  "kernelspec": {
   "display_name": "Python 3",
   "language": "python",
   "name": "python3"
  },
  "language_info": {
   "codemirror_mode": {
    "name": "ipython",
    "version": 3
   },
   "file_extension": ".py",
   "mimetype": "text/x-python",
   "name": "python",
   "nbconvert_exporter": "python",
   "pygments_lexer": "ipython3",
   "version": "3.8.5"
  }
 },
 "nbformat": 4,
 "nbformat_minor": 4
}
