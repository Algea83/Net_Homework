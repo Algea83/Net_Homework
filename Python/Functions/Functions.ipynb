{
 "cells": [
  {
   "cell_type": "markdown",
   "metadata": {},
   "source": [
    "## Задание 1\n",
    "**Пункт 1. Пользователь по команде “p” может узнать владельца документа по его номеру**"
   ]
  },
  {
   "cell_type": "code",
   "execution_count": 5,
   "metadata": {},
   "outputs": [
    {
     "name": "stdout",
     "output_type": "stream",
     "text": [
      "Меню программы:\n",
      "        p - узнать владельца документа по номеру документа\n",
      "        s - узнать полку хранения документа по номеру документа\n",
      "        l - запрос полной информации по всем документам\n",
      "        as - добавить новую полку в данные\n",
      "        ds - удалить пустую существующую полку из данных\n",
      "        q - завершить работу программы\n",
      "        \n"
     ]
    },
    {
     "name": "stdin",
     "output_type": "stream",
     "text": [
      "Выберите пункт меню:  q\n"
     ]
    },
    {
     "name": "stdout",
     "output_type": "stream",
     "text": [
      "Quit\n",
      "The doc is on the shelf: 1\n",
      "No: 2207 876234 Type: passport Name: Василий Гупкин Shelf: 1\n",
      "The doc is on the shelf: 1\n",
      "No: 11-2 Type: invoice Name: Геннадий Покемонов Shelf: 1\n",
      "The doc is on the shelf: 2\n",
      "No: 10006 Type: insurance Name: Аристарх Павлов Shelf: 2\n"
     ]
    }
   ],
   "source": [
    "documents = [\n",
    "{'type': 'passport', 'number': '2207 876234', 'name': 'Василий Гупкин'},\n",
    "{'type': 'invoice', 'number': '11-2', 'name': 'Геннадий Покемонов'},\n",
    "{'type': 'insurance', 'number': '10006', 'name': 'Аристарх Павлов'}\n",
    "]\n",
    "\n",
    "directories = {\n",
    "'1': ['2207 876234', '11-2'],\n",
    "'2': ['10006'],\n",
    "'3': []\n",
    "}\n",
    "\n",
    "\n",
    "def find_name():\n",
    "    number = input('Введите номер документа: ')\n",
    "    found = False\n",
    "    for document in documents:\n",
    "        if number in document.values():\n",
    "            print('Владелец документа:', document['name'])\n",
    "            found = True\n",
    "    if found == False:\n",
    "        print ('Документ не найден в базе')\n",
    "\n",
    "def find_shelf(*param):\n",
    "    if len(param) == 0:\n",
    "        number = input('Doc number: ')\n",
    "    else:\n",
    "        number = param[0]\n",
    "    found = False\n",
    "    for shelf in directories.items():\n",
    "        if number in shelf[1]:\n",
    "            print('The doc is on the shelf:', shelf[0])\n",
    "            found = True\n",
    "            return shelf[0]\n",
    "    if found == False:\n",
    "        print('No such doc!')\n",
    "\n",
    "print(\"\"\"Меню программы:\n",
    "        p - узнать владельца документа по номеру документа\n",
    "        s - узнать полку хранения документа по номеру документа\n",
    "        l - запрос полной информации по всем документам\n",
    "        as - добавить новую полку в данные\n",
    "        ds - удалить пустую существующую полку из данных\n",
    "        q - завершить работу программы\n",
    "        \"\"\")\n",
    "\n",
    "while True:\n",
    "    select = input('Выберите пункт меню: ')\n",
    "    if select == 'q':\n",
    "        print('Quit')\n",
    "        break\n",
    "        \n",
    "    elif select == 'p':\n",
    "        find_name()\n",
    "    \n",
    "    \n",
    "    elif select == 's':\n",
    "        find_shelf()\n",
    "    \n",
    "    \n",
    "    elif select == 'l':\n",
    "        print('L')\n",
    "    \n",
    "    \n",
    "    elif select == 'as':\n",
    "        print('AS')\n",
    "        \n",
    "        \n",
    "    elif select == 'ds':\n",
    "        print('DS')\n",
    "        \n",
    "        \n",
    "    else:\n",
    "        print('Incorrect!')\n",
    "\n",
    "\n",
    "def full_info():\n",
    "    for document in documents:\n",
    "        shelf = find_shelf(document['number'])\n",
    "        \n",
    "        print('No:', document['number'], 'Type:', document['type'], 'Name:', document['name'], 'Shelf:', shelf)\n",
    "        \n",
    "\n",
    "\n",
    "full_info()\n",
    "\n",
    "\n"
   ]
  }
 ],
 "metadata": {
  "kernelspec": {
   "display_name": "Python 3",
   "language": "python",
   "name": "python3"
  },
  "language_info": {
   "codemirror_mode": {
    "name": "ipython",
    "version": 3
   },
   "file_extension": ".py",
   "mimetype": "text/x-python",
   "name": "python",
   "nbconvert_exporter": "python",
   "pygments_lexer": "ipython3",
   "version": "3.8.5"
  }
 },
 "nbformat": 4,
 "nbformat_minor": 4
}
