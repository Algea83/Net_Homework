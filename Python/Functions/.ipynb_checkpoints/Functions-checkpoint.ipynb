{
 "cells": [
  {
   "cell_type": "markdown",
   "metadata": {},
   "source": [
    "## Задание 1\n",
    "**Пункт 1. Пользователь по команде “p” может узнать владельца документа по его номеру**"
   ]
  },
  {
   "cell_type": "code",
   "execution_count": 3,
   "metadata": {},
   "outputs": [
    {
     "name": "stdout",
     "output_type": "stream",
     "text": [
      "Меню программы:\n",
      "        p - узнать владельца документа по номеру документа\n",
      "        s - узнать полку хранения документа по номеру документа\n",
      "        l - запрос полной информации по всем документам\n",
      "        as - добавить новую полку в данные\n",
      "        ds - удалить пустую существующую полку из данных\n",
      "        q - завершить работу программы\n",
      "        \n"
     ]
    },
    {
     "name": "stdin",
     "output_type": "stream",
     "text": [
      "Выберите пункт меню:  p\n"
     ]
    },
    {
     "name": "stdout",
     "output_type": "stream",
     "text": [
      "Такой команды нет! Перезапустите программу\n"
     ]
    }
   ],
   "source": [
    "documents = [\n",
    "{'type': 'passport', 'number': '2207 876234', 'name': 'Василий Гупкин'},\n",
    "{'type': 'invoice', 'number': '11-2', 'name': 'Геннадий Покемонов'},\n",
    "{'type': 'insurance', 'number': '10006', 'name': 'Аристарх Павлов'}\n",
    "]\n",
    "\n",
    "directories = {\n",
    "'1': ['2207 876234', '11-2'],\n",
    "'2': ['10006'],\n",
    "'3': []\n",
    "}\n",
    "\n",
    "\n",
    "print(\"\"\"Меню программы:\n",
    "        p - узнать владельца документа по номеру документа\n",
    "        s - узнать полку хранения документа по номеру документа\n",
    "        l - запрос полной информации по всем документам\n",
    "        as - добавить новую полку в данные\n",
    "        ds - удалить пустую существующую полку из данных\n",
    "        q - завершить работу программы\n",
    "        \"\"\")\n",
    "select = input('Выберите пункт меню: ')\n",
    "\n",
    "while True:\n",
    "    if select == 'q':\n",
    "        break\n",
    "        \n",
    "    if select != ('q' or 'p' or 's' or 'l' or 'as' or 'ds'):\n",
    "        print('Такой команды нет! Перезапустите программу')\n",
    "        break\n",
    "\n",
    "\n",
    "\n",
    "\n"
   ]
  }
 ],
 "metadata": {
  "kernelspec": {
   "display_name": "Python 3",
   "language": "python",
   "name": "python3"
  },
  "language_info": {
   "codemirror_mode": {
    "name": "ipython",
    "version": 3
   },
   "file_extension": ".py",
   "mimetype": "text/x-python",
   "name": "python",
   "nbconvert_exporter": "python",
   "pygments_lexer": "ipython3",
   "version": "3.8.5"
  }
 },
 "nbformat": 4,
 "nbformat_minor": 4
}
