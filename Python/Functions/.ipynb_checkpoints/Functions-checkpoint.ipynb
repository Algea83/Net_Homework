{
 "cells": [
  {
   "cell_type": "markdown",
   "metadata": {},
   "source": [
    "## Задание 1\n",
    "**Вам нужно помочь секретарю автоматизировать работу. Для этого нужно написать программу, которая будет на основе хранимых данных исполнять пользовательские команды.**\n",
    "- **Пункт 1. Пользователь по команде “p” может узнать владельца документа по его номеру**\n",
    "- **Пункт 2. Пользователь по команде “s” может по номеру документа узнать на какой полке он хранится**\n",
    "- **Пункт 3. Пользователь по команде “l” может увидеть полную информацию по всем документам**\n",
    "- **Пункт 4. Пользователь по команде “as” может добавить новую полку**\n",
    "- **Пункт 5. Пользователь по команде “ds” может удалить существующую полку из данных (только если она пустая)**"
   ]
  },
  {
   "cell_type": "code",
   "execution_count": 4,
   "metadata": {},
   "outputs": [
    {
     "name": "stdout",
     "output_type": "stream",
     "text": [
      "Меню программы:\n",
      "        p - узнать владельца документа по номеру документа\n",
      "        s - узнать полку хранения документа по номеру документа\n",
      "        l - запрос полной информации по всем документам\n",
      "        as - добавить новую полку в данные\n",
      "        ds - удалить пустую существующую полку из данных\n",
      "        q - завершить работу программы\n",
      "        \n"
     ]
    },
    {
     "name": "stdin",
     "output_type": "stream",
     "text": [
      "Выберите пункт меню:  l\n"
     ]
    },
    {
     "name": "stdout",
     "output_type": "stream",
     "text": [
      "№: 2207 876234, тип: passport, владелец: Василий Гупкин, полка хранения: 1\n",
      "№: 11-2, тип: invoice, владелец: Геннадий Покемонов, полка хранения: 1\n",
      "№: 10006, тип: insurance, владелец: Аристарх Павлов, полка хранения: 2\n"
     ]
    },
    {
     "name": "stdin",
     "output_type": "stream",
     "text": [
      "Выберите пункт меню:  s\n",
      "Введите номер документа:  2207 876234\n"
     ]
    },
    {
     "name": "stdout",
     "output_type": "stream",
     "text": [
      "Документ хранится на полке: 1\n"
     ]
    },
    {
     "name": "stdin",
     "output_type": "stream",
     "text": [
      "Выберите пункт меню:  s\n",
      "Введите номер документа:  11-2\n"
     ]
    },
    {
     "name": "stdout",
     "output_type": "stream",
     "text": [
      "Документ хранится на полке: 1\n"
     ]
    },
    {
     "name": "stdin",
     "output_type": "stream",
     "text": [
      "Выберите пункт меню:  s\n",
      "Введите номер документа:  10006\n"
     ]
    },
    {
     "name": "stdout",
     "output_type": "stream",
     "text": [
      "Документ хранится на полке: 2\n"
     ]
    },
    {
     "name": "stdin",
     "output_type": "stream",
     "text": [
      "Выберите пункт меню:  s\n",
      "Введите номер документа:  1\n"
     ]
    },
    {
     "name": "stdout",
     "output_type": "stream",
     "text": [
      "Документ не найден в базе\n"
     ]
    },
    {
     "name": "stdin",
     "output_type": "stream",
     "text": [
      "Выберите пункт меню:  q\n"
     ]
    },
    {
     "name": "stdout",
     "output_type": "stream",
     "text": [
      "Работа программы завершена!\n"
     ]
    }
   ],
   "source": [
    "documents = [\n",
    "{'type': 'passport', 'number': '2207 876234', 'name': 'Василий Гупкин'},\n",
    "{'type': 'invoice', 'number': '11-2', 'name': 'Геннадий Покемонов'},\n",
    "{'type': 'insurance', 'number': '10006', 'name': 'Аристарх Павлов'}\n",
    "]\n",
    "\n",
    "directories = {\n",
    "'1': ['2207 876234', '11-2'],\n",
    "'2': ['10006'],\n",
    "'3': []\n",
    "}\n",
    "\n",
    "\n",
    "def find_item_value(*param):\n",
    "    collection = param[0]\n",
    "    item = param[1]\n",
    "    found = False\n",
    "    if type(collection) == list:\n",
    "        for i in range(len(collection)):\n",
    "            if item in collection[i].values():\n",
    "                found = True\n",
    "                break\n",
    "            else:\n",
    "                found = False\n",
    "        \n",
    "    elif type(collection) == dict:\n",
    "        for value in collection.values():\n",
    "            if item in value:\n",
    "                found = True\n",
    "                break\n",
    "            else:\n",
    "                found = False\n",
    "    \n",
    "    return found\n",
    "\n",
    "\n",
    "def find_item_key(*param):\n",
    "    collection = param[0]\n",
    "    item = param[1]\n",
    "    found = False\n",
    "    if type(collection) == list:\n",
    "        for i in range(len(collection)):\n",
    "            if item in collection[i].keys():\n",
    "                found = True\n",
    "                break\n",
    "            else:\n",
    "                found = False\n",
    "        \n",
    "    elif type(collection) == dict:\n",
    "        for value in collection.keys():\n",
    "            if item in value:\n",
    "                found = True\n",
    "                break\n",
    "            else:\n",
    "                found = False\n",
    "    \n",
    "    return found\n",
    "    \n",
    "\n",
    "    \n",
    "def find_name():\n",
    "    number = input('Введите номер документа: ')\n",
    "    if find_item_value(documents, number) == False:\n",
    "        print ('Документ не найден в базе')\n",
    "        \n",
    "    else:\n",
    "        for document in documents:\n",
    "            if number in document['number']:\n",
    "                print('Владелец документа:', document['name'])\n",
    "             \n",
    "\n",
    "\n",
    "def find_shelf(*param):\n",
    "    if len(param) == 0:\n",
    "        number = input('Введите номер документа: ')\n",
    "    else:\n",
    "        number = param[0]\n",
    "    \n",
    "    if find_item_value(directories, number) == False:\n",
    "        print('Документ не найден в базе')\n",
    "        \n",
    "    else:\n",
    "        for shelf, document in directories.items():\n",
    "            if number in document:\n",
    "                if len(param) == 0:\n",
    "                    print('Документ хранится на полке:', shelf)\n",
    "                else:\n",
    "                    return shelf\n",
    "                \n",
    "        \n",
    "def full_info():\n",
    "    for document in documents:\n",
    "        shelf = find_shelf(document['number'])\n",
    "        print('№: ', document['number'], ', тип: ', document['type'], ', владелец: ', document['name'], ', полка хранения: ', shelf, sep='')\n",
    "\n",
    "\n",
    "def add_shelf():\n",
    "    number = input('Введите номер полки: ')\n",
    "    \n",
    "    if find_item_key(directories, number) == True:\n",
    "        print('Такая полка уже существует. Текущий перечень полок:', {key for key in directories.keys()})\n",
    "    \n",
    "    else:\n",
    "        directories[number] = []\n",
    "        print('Полка добавлена. Текущий перечень полок:', {key for key in directories.keys()})\n",
    "\n",
    "        \n",
    "def del_shelf():\n",
    "    number = input('Введите номер полки: ')\n",
    "    \n",
    "    if find_item_key(directories, number) == False:\n",
    "        print('Такой полки не существует. Текущий перечень полок:', {key for key in directories.keys()})\n",
    "        \n",
    "    else:\n",
    "        if number in directories.keys():\n",
    "            if directories[number] == []:\n",
    "                directories.pop(number)\n",
    "                print('Полка удалена. Текущий перечень полок:', {key for key in directories.keys()})\n",
    "            else:\n",
    "                print('На полке есть документ(ы), удалите их перед удалением полки. Текущий перечень полок:', {key for key in directories.keys()})\n",
    "\n",
    "        \n",
    "        \n",
    "print(\"\"\"Меню программы:\n",
    "        p - узнать владельца документа по номеру документа\n",
    "        s - узнать полку хранения документа по номеру документа\n",
    "        l - запрос полной информации по всем документам\n",
    "        as - добавить новую полку в данные\n",
    "        ds - удалить пустую существующую полку из данных\n",
    "        q - завершить работу программы\n",
    "        \"\"\")\n",
    "\n",
    "while True:\n",
    "    select = input('Выберите пункт меню: ')\n",
    "    if select == 'q':\n",
    "        print('Работа программы завершена!')\n",
    "        break\n",
    "        \n",
    "    elif select == 'p':\n",
    "        find_name()\n",
    "        \n",
    "    elif select == 's':\n",
    "        find_shelf()\n",
    "\n",
    "    elif select == 'l':\n",
    "        full_info()\n",
    "    \n",
    "    elif select == 'as':\n",
    "        add_shelf()\n",
    "                \n",
    "    elif select == 'ds':\n",
    "        del_shelf()\n",
    "              \n",
    "    else:\n",
    "        print('Выберите корректный пункт меню!')\n"
   ]
  },
  {
   "cell_type": "markdown",
   "metadata": {},
   "source": [
    "## Задание 2 (необязательное)\n",
    "**Вам необходимо дополнить программу из задания 1 более продвинутыми командами.**\n",
    "- **Пункт 1. Пользователь по команде “ad” может добавить новый документ в данные**\n",
    "- **Пункт 2. Пользователь по команде “d” может удалить документ из данных**"
   ]
  }
 ],
 "metadata": {
  "kernelspec": {
   "display_name": "Python 3",
   "language": "python",
   "name": "python3"
  },
  "language_info": {
   "codemirror_mode": {
    "name": "ipython",
    "version": 3
   },
   "file_extension": ".py",
   "mimetype": "text/x-python",
   "name": "python",
   "nbconvert_exporter": "python",
   "pygments_lexer": "ipython3",
   "version": "3.8.5"
  }
 },
 "nbformat": 4,
 "nbformat_minor": 4
}
