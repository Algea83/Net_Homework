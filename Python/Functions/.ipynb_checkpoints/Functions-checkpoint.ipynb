{
 "cells": [
  {
   "cell_type": "markdown",
   "metadata": {},
   "source": [
    "## Задание 1\n",
    "**Пункт 1. Пользователь по команде “p” может узнать владельца документа по его номеру**"
   ]
  },
  {
   "cell_type": "code",
   "execution_count": 4,
   "metadata": {},
   "outputs": [
    {
     "name": "stdout",
     "output_type": "stream",
     "text": [
      "Меню программы:\n",
      "        p - узнать владельца документа по номеру документа\n",
      "        s - узнать полку хранения документа по номеру документа\n",
      "        l - запрос полной информации по всем документам\n",
      "        as - добавить новую полку в данные\n",
      "        ds - удалить пустую существующую полку из данных\n",
      "        q - завершить работу программы\n",
      "        \n"
     ]
    },
    {
     "name": "stdin",
     "output_type": "stream",
     "text": [
      "Выберите пункт меню:  l\n"
     ]
    },
    {
     "name": "stdout",
     "output_type": "stream",
     "text": [
      "№: 2207 876234, тип: passport, владелец: Василий Гупкин, полка хранения: 1\n",
      "№: 11-2, тип: invoice, владелец: Геннадий Покемонов, полка хранения: 1\n",
      "№: 10006, тип: insurance, владелец: Аристарх Павлов, полка хранения: 2\n"
     ]
    },
    {
     "name": "stdin",
     "output_type": "stream",
     "text": [
      "Выберите пункт меню:  s\n",
      "Введите номер документа:  2207 876234\n"
     ]
    },
    {
     "name": "stdout",
     "output_type": "stream",
     "text": [
      "Документ хранится на полке: 1\n"
     ]
    },
    {
     "name": "stdin",
     "output_type": "stream",
     "text": [
      "Выберите пункт меню:  s\n",
      "Введите номер документа:  11-2\n"
     ]
    },
    {
     "name": "stdout",
     "output_type": "stream",
     "text": [
      "Документ хранится на полке: 1\n"
     ]
    },
    {
     "name": "stdin",
     "output_type": "stream",
     "text": [
      "Выберите пункт меню:  s\n",
      "Введите номер документа:  10006\n"
     ]
    },
    {
     "name": "stdout",
     "output_type": "stream",
     "text": [
      "Документ хранится на полке: 2\n"
     ]
    },
    {
     "name": "stdin",
     "output_type": "stream",
     "text": [
      "Выберите пункт меню:  s\n",
      "Введите номер документа:  1\n"
     ]
    },
    {
     "name": "stdout",
     "output_type": "stream",
     "text": [
      "Документ не найден в базе\n"
     ]
    },
    {
     "name": "stdin",
     "output_type": "stream",
     "text": [
      "Выберите пункт меню:  q\n"
     ]
    },
    {
     "name": "stdout",
     "output_type": "stream",
     "text": [
      "Работа программы завершена!\n"
     ]
    }
   ],
   "source": [
    "documents = [\n",
    "{'type': 'passport', 'number': '2207 876234', 'name': 'Василий Гупкин'},\n",
    "{'type': 'invoice', 'number': '11-2', 'name': 'Геннадий Покемонов'},\n",
    "{'type': 'insurance', 'number': '10006', 'name': 'Аристарх Павлов'}\n",
    "]\n",
    "\n",
    "directories = {\n",
    "'1': ['2207 876234', '11-2'],\n",
    "'2': ['10006'],\n",
    "'3': []\n",
    "}\n",
    "\n",
    "\n",
    "def find_item_value(*param):\n",
    "    collection = param[0]\n",
    "    item = param[1]\n",
    "    found = False\n",
    "    if type(collection) == list:\n",
    "        for i in range(len(collection)):\n",
    "            if item in collection[i].values():\n",
    "                found = True\n",
    "                break\n",
    "            else:\n",
    "                found = False\n",
    "        \n",
    "    elif type(collection) == dict:\n",
    "        for value in collection.values():\n",
    "            if item in value:\n",
    "                found = True\n",
    "                break\n",
    "            else:\n",
    "                found = False\n",
    "    \n",
    "    return found\n",
    "\n",
    "\n",
    "def find_item_key(*param):\n",
    "    collection = param[0]\n",
    "    item = param[1]\n",
    "    found = False\n",
    "    if type(collection) == list:\n",
    "        for i in range(len(collection)):\n",
    "            if item in collection[i].keys():\n",
    "                found = True\n",
    "                break\n",
    "            else:\n",
    "                found = False\n",
    "        \n",
    "    elif type(collection) == dict:\n",
    "        for value in collection.keys():\n",
    "            if item in value:\n",
    "                found = True\n",
    "                break\n",
    "            else:\n",
    "                found = False\n",
    "    \n",
    "    return found\n",
    "    \n",
    "\n",
    "    \n",
    "def find_name():\n",
    "    number = input('Введите номер документа: ')\n",
    "    if find_item_value(documents, number) == False:\n",
    "        print ('Документ не найден в базе')\n",
    "        \n",
    "    else:\n",
    "        for document in documents:\n",
    "            if number in document['number']:\n",
    "                print('Владелец документа:', document['name'])\n",
    "             \n",
    "\n",
    "\n",
    "def find_shelf(*param):\n",
    "    if len(param) == 0:\n",
    "        number = input('Введите номер документа: ')\n",
    "    else:\n",
    "        number = param[0]\n",
    "    \n",
    "    if find_item_value(directories, number) == False:\n",
    "        print('Документ не найден в базе')\n",
    "        \n",
    "    else:\n",
    "        for shelf, document in directories.items():\n",
    "            if number in document:\n",
    "                if len(param) == 0:\n",
    "                    print('Документ хранится на полке:', shelf)\n",
    "                else:\n",
    "                    return shelf\n",
    "                \n",
    "        \n",
    "def full_info():\n",
    "    for document in documents:\n",
    "        shelf = find_shelf(document['number'])\n",
    "        print('№: ', document['number'], ', тип: ', document['type'], ', владелец: ', document['name'], ', полка хранения: ', shelf, sep='')\n",
    "\n",
    "\n",
    "def add_shelf():\n",
    "    number = input('Введите номер полки: ')\n",
    "    \n",
    "    if find_item_key(directories, number) == True:\n",
    "        print('Такая полка уже существует. Текущий перечень полок:', {key for key in directories.keys()})\n",
    "    \n",
    "    else:\n",
    "        directories[number] = []\n",
    "        print('Полка добавлена. Текущий перечень полок:', {key for key in directories.keys()})\n",
    "\n",
    "        \n",
    "def del_shelf():\n",
    "    number = input('Введите номер полки: ')\n",
    "    \n",
    "    if find_item_key(directories, number) == False:\n",
    "        print('Такой полки не существует. Текущий перечень полок:', {key for key in directories.keys()})\n",
    "        \n",
    "    else:\n",
    "        if number in directories.keys():\n",
    "            if directories[number] == []:\n",
    "                directories.pop(number)\n",
    "                print('Полка удалена. Текущий перечень полок:', {key for key in directories.keys()})\n",
    "            else:\n",
    "                print('На полке есть документ(ы), удалите их перед удалением полки. Текущий перечень полок:', {key for key in directories.keys()})\n",
    "\n",
    "        \n",
    "        \n",
    "print(\"\"\"Меню программы:\n",
    "        p - узнать владельца документа по номеру документа\n",
    "        s - узнать полку хранения документа по номеру документа\n",
    "        l - запрос полной информации по всем документам\n",
    "        as - добавить новую полку в данные\n",
    "        ds - удалить пустую существующую полку из данных\n",
    "        q - завершить работу программы\n",
    "        \"\"\")\n",
    "\n",
    "while True:\n",
    "    select = input('Выберите пункт меню: ')\n",
    "    if select == 'q':\n",
    "        print('Работа программы завершена!')\n",
    "        break\n",
    "        \n",
    "    elif select == 'p':\n",
    "        find_name()\n",
    "        \n",
    "    elif select == 's':\n",
    "        find_shelf()\n",
    "\n",
    "    elif select == 'l':\n",
    "        full_info()\n",
    "    \n",
    "    elif select == 'as':\n",
    "        add_shelf()\n",
    "                \n",
    "    elif select == 'ds':\n",
    "        del_shelf()\n",
    "              \n",
    "    else:\n",
    "        print('Выберите корректный пункт меню!')\n"
   ]
  },
  {
   "cell_type": "code",
   "execution_count": 3,
   "metadata": {},
   "outputs": [
    {
     "name": "stdout",
     "output_type": "stream",
     "text": [
      "Menu:\n",
      "        p - find the owner by the doc number\n",
      "        s - find the shelf by the doc number\n",
      "        l - full info about the docs\n",
      "        as - add a new shelf\n",
      "        ds - delete an empty shelf\n",
      "        q - quit\n",
      "        \n"
     ]
    },
    {
     "name": "stdin",
     "output_type": "stream",
     "text": [
      "Select an option:  s\n",
      "Enter doc number:  11-2\n"
     ]
    },
    {
     "name": "stdout",
     "output_type": "stream",
     "text": [
      "The doc is on the shelf: 1\n"
     ]
    },
    {
     "name": "stdin",
     "output_type": "stream",
     "text": [
      "Select an option:  s\n",
      "Enter doc number:  10006\n"
     ]
    },
    {
     "name": "stdout",
     "output_type": "stream",
     "text": [
      "The doc is on the shelf: 2\n"
     ]
    },
    {
     "name": "stdin",
     "output_type": "stream",
     "text": [
      "Select an option:  s\n",
      "Enter doc number:  1\n"
     ]
    },
    {
     "name": "stdout",
     "output_type": "stream",
     "text": [
      "No such doc\n"
     ]
    },
    {
     "name": "stdin",
     "output_type": "stream",
     "text": [
      "Select an option:  l\n"
     ]
    },
    {
     "name": "stdout",
     "output_type": "stream",
     "text": [
      "№: 2207 876234, type: passport, owner: Василий Гупкин, shelf: 1\n",
      "№: 11-2, type: invoice, owner: Геннадий Покемонов, shelf: 1\n",
      "№: 10006, type: insurance, owner: Аристарх Павлов, shelf: 2\n"
     ]
    },
    {
     "name": "stdin",
     "output_type": "stream",
     "text": [
      "Select an option:  q\n"
     ]
    },
    {
     "name": "stdout",
     "output_type": "stream",
     "text": [
      "Goodbye!\n"
     ]
    }
   ],
   "source": [
    "documents = [\n",
    "{'type': 'passport', 'number': '2207 876234', 'name': 'Василий Гупкин'},\n",
    "{'type': 'invoice', 'number': '11-2', 'name': 'Геннадий Покемонов'},\n",
    "{'type': 'insurance', 'number': '10006', 'name': 'Аристарх Павлов'}\n",
    "]\n",
    "\n",
    "directories = {\n",
    "'1': ['2207 876234', '11-2'],\n",
    "'2': ['10006'],\n",
    "'3': []\n",
    "}\n",
    "\n",
    "\n",
    "def find_item_value(*param):\n",
    "    collection = param[0]\n",
    "    item = param[1]\n",
    "    found = False\n",
    "    if type(collection) == list:\n",
    "        for i in range(len(collection)):\n",
    "            if item in collection[i].values():\n",
    "                found = True\n",
    "                break\n",
    "            else:\n",
    "                found = False\n",
    "        \n",
    "    elif type(collection) == dict:\n",
    "        for value in collection.values():\n",
    "            if item in value:\n",
    "                found = True\n",
    "                break\n",
    "            else:\n",
    "                found = False\n",
    "    \n",
    "    return found\n",
    "\n",
    "\n",
    "def find_item_key(*param):\n",
    "    collection = param[0]\n",
    "    item = param[1]\n",
    "    found = False\n",
    "    if type(collection) == list:\n",
    "        for i in range(len(collection)):\n",
    "            if item in collection[i].keys():\n",
    "                found = True\n",
    "                break\n",
    "            else:\n",
    "                found = False\n",
    "        \n",
    "    elif type(collection) == dict:\n",
    "        for value in collection.keys():\n",
    "            if item in value:\n",
    "                found = True\n",
    "                break\n",
    "            else:\n",
    "                found = False\n",
    "    \n",
    "    return found\n",
    "    \n",
    "\n",
    "    \n",
    "def find_name():\n",
    "    number = input('Enter doc number: ')\n",
    "    if find_item_value(documents, number) == False:\n",
    "        print ('No such doc')\n",
    "        \n",
    "    else:\n",
    "        for document in documents:\n",
    "            if number in document['number']:\n",
    "                print(\"Doc's owner:\", document['name'])\n",
    "             \n",
    "\n",
    "\n",
    "def find_shelf(*param):\n",
    "    if len(param) == 0:\n",
    "        number = input('Enter doc number: ')\n",
    "    else:\n",
    "        number = param[0]\n",
    "    \n",
    "    if find_item_value(directories, number) == False:\n",
    "        print('No such doc')\n",
    "        \n",
    "    else:\n",
    "        for shelf, document in directories.items():\n",
    "            if number in document:\n",
    "                if len(param) == 0:\n",
    "                    print('The doc is on the shelf:', shelf)\n",
    "                else:\n",
    "                    return shelf\n",
    "                \n",
    "        \n",
    "def full_info():\n",
    "    for document in documents:\n",
    "        shelf = find_shelf(document['number'])\n",
    "        print('№: ', document['number'], ', type: ', document['type'], ', owner: ', document['name'], ', shelf: ', shelf, sep='')\n",
    "\n",
    "\n",
    "def add_shelf():\n",
    "    number = input('Enter shelf number: ')\n",
    "    \n",
    "    if find_item_key(directories, number) == True:\n",
    "        print('The shelf already exists. The current list of shelves:', {key for key in directories.keys()})\n",
    "    \n",
    "    else:\n",
    "        directories[number] = []\n",
    "        print('The shelf is added. The current list of shelves:', {key for key in directories.keys()})\n",
    "\n",
    "        \n",
    "def del_shelf():\n",
    "    number = input('Enter shelf number: ')\n",
    "    \n",
    "    if find_item_key(directories, number) == False:\n",
    "        print('No such shelf. The current list of shelves:', {key for key in directories.keys()})\n",
    "        \n",
    "    else:\n",
    "        if number in directories.keys():\n",
    "            if directories[number] == []:\n",
    "                directories.pop(number)\n",
    "                print('The shelf is deleted. The current list of shelves:', {key for key in directories.keys()})\n",
    "            else:\n",
    "                print('There are docs on the shelf, delete them before deleting the shelf. The current list of shelves:', {key for key in directories.keys()})\n",
    "\n",
    "        \n",
    "        \n",
    "print(\"\"\"Menu:\n",
    "        p - find the owner by the doc number\n",
    "        s - find the shelf by the doc number\n",
    "        l - full info about the docs\n",
    "        as - add a new shelf\n",
    "        ds - delete an empty shelf\n",
    "        q - quit\n",
    "        \"\"\")\n",
    "\n",
    "while True:\n",
    "    select = input('Select an option: ')\n",
    "    if select == 'q':\n",
    "        print('Goodbye!')\n",
    "        break\n",
    "        \n",
    "    elif select == 'p':\n",
    "        find_name()\n",
    "        \n",
    "    elif select == 's':\n",
    "        find_shelf()\n",
    "\n",
    "    elif select == 'l':\n",
    "        full_info()\n",
    "    \n",
    "    elif select == 'as':\n",
    "        add_shelf()\n",
    "                \n",
    "    elif select == 'ds':\n",
    "        del_shelf()\n",
    "              \n",
    "    else:\n",
    "        print('Select the valid option!')\n"
   ]
  }
 ],
 "metadata": {
  "kernelspec": {
   "display_name": "Python 3",
   "language": "python",
   "name": "python3"
  },
  "language_info": {
   "codemirror_mode": {
    "name": "ipython",
    "version": 3
   },
   "file_extension": ".py",
   "mimetype": "text/x-python",
   "name": "python",
   "nbconvert_exporter": "python",
   "pygments_lexer": "ipython3",
   "version": "3.8.5"
  }
 },
 "nbformat": 4,
 "nbformat_minor": 4
}
