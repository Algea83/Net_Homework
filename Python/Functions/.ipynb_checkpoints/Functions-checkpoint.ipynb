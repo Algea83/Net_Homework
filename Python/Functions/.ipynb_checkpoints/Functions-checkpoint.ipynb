{
 "cells": [
  {
   "cell_type": "markdown",
   "metadata": {},
   "source": [
    "## Задание 1\n",
    "**Вам нужно помочь секретарю автоматизировать работу. Для этого нужно написать программу, которая будет на основе хранимых данных исполнять пользовательские команды.**\n",
    "- **Пункт 1. Пользователь по команде “p” может узнать владельца документа по его номеру**\n",
    "- **Пункт 2. Пользователь по команде “s” может по номеру документа узнать на какой полке он хранится**\n",
    "- **Пункт 3. Пользователь по команде “l” может увидеть полную информацию по всем документам**\n",
    "- **Пункт 4. Пользователь по команде “as” может добавить новую полку**\n",
    "- **Пункт 5. Пользователь по команде “ds” может удалить существующую полку из данных (только если она пустая)**"
   ]
  },
  {
   "cell_type": "markdown",
   "metadata": {},
   "source": [
    "## Задание 2 (необязательное)\n",
    "**Вам необходимо дополнить программу из задания 1 более продвинутыми командами.**\n",
    "- **Пункт 1. Пользователь по команде “ad” может добавить новый документ в данные**\n",
    "- **Пункт 2. Пользователь по команде “d” может удалить документ из данных**\n",
    "- **Пункт 3. Пользователь по команде “m” может переместить документ с полки на полку**"
   ]
  },
  {
   "cell_type": "code",
   "execution_count": 1,
   "metadata": {},
   "outputs": [
    {
     "name": "stdout",
     "output_type": "stream",
     "text": [
      "Меню программы:\n",
      "          p - узнать владельца документа по номеру документа\n",
      "          s - узнать полку хранения документа по номеру документа\n",
      "          l - запрос полной информации по всем документам\n",
      "          as - добавить новую полку в данные\n",
      "          ds - удалить пустую существующую полку из данных\n",
      "          ad - добавить новый документ в данные\n",
      "          d - удалить документ из данных\n",
      "          m - переместить документ с полки на полку\n",
      "          q - завершить работу программы\n",
      "      \n"
     ]
    },
    {
     "name": "stdin",
     "output_type": "stream",
     "text": [
      "Выберите пункт меню:  ad\n",
      "Введите номер документа:  12345\n",
      "Введите тип документа:  w\n",
      "Введите владельца документа:  q\n",
      "Введите полку для хранения:  4\n"
     ]
    },
    {
     "name": "stdout",
     "output_type": "stream",
     "text": [
      "Такой полки не существует. Добавьте полку командой as.\n",
      "Текущий список документов:\n",
      "№: 2207 876234, тип: passport, владелец: Василий Гупкин, полка хранения: 1\n",
      "№: 11-2, тип: invoice, владелец: Геннадий Покемонов, полка хранения: 1\n",
      "№: 10006, тип: insurance, владелец: Аристарх Павлов, полка хранения: 2\n"
     ]
    },
    {
     "name": "stdin",
     "output_type": "stream",
     "text": [
      "Выберите пункт меню:  ad\n",
      "Введите номер документа:  42\n",
      "Введите тип документа:  qwer\n",
      "Введите владельца документа:  tyu\n",
      "Введите полку для хранения:  3\n"
     ]
    },
    {
     "name": "stdout",
     "output_type": "stream",
     "text": [
      "Документ добавлен.\n",
      "Текущий список документов:\n",
      "№: 2207 876234, тип: passport, владелец: Василий Гупкин, полка хранения: 1\n",
      "№: 11-2, тип: invoice, владелец: Геннадий Покемонов, полка хранения: 1\n",
      "№: 10006, тип: insurance, владелец: Аристарх Павлов, полка хранения: 2\n",
      "№: 42, тип: qwer, владелец: tyu, полка хранения: 3\n"
     ]
    },
    {
     "name": "stdin",
     "output_type": "stream",
     "text": [
      "Выберите пункт меню:  d\n",
      "Введите номер документа:  12345\n"
     ]
    },
    {
     "name": "stdout",
     "output_type": "stream",
     "text": [
      "Документ не найден в базе.\n",
      "Текущий список документов: \n",
      "№: 2207 876234, тип: passport, владелец: Василий Гупкин, полка хранения: 1\n",
      "№: 11-2, тип: invoice, владелец: Геннадий Покемонов, полка хранения: 1\n",
      "№: 10006, тип: insurance, владелец: Аристарх Павлов, полка хранения: 2\n",
      "№: 42, тип: qwer, владелец: tyu, полка хранения: 3\n"
     ]
    },
    {
     "name": "stdin",
     "output_type": "stream",
     "text": [
      "Выберите пункт меню:  d\n",
      "Введите номер документа:  42\n"
     ]
    },
    {
     "name": "stdout",
     "output_type": "stream",
     "text": [
      "Документ удалён.\n",
      "Текущий список документов: \n",
      "№: 2207 876234, тип: passport, владелец: Василий Гупкин, полка хранения: 1\n",
      "№: 11-2, тип: invoice, владелец: Геннадий Покемонов, полка хранения: 1\n",
      "№: 10006, тип: insurance, владелец: Аристарх Павлов, полка хранения: 2\n"
     ]
    },
    {
     "name": "stdin",
     "output_type": "stream",
     "text": [
      "Выберите пункт меню:  m\n",
      "Введите номер документа:  12345\n",
      "Введите номер полки, куда хотите переместить документ:  1\n"
     ]
    },
    {
     "name": "stdout",
     "output_type": "stream",
     "text": [
      "Документ не найден в базе\n",
      "Текущий список документов: \n",
      "№: 2207 876234, тип: passport, владелец: Василий Гупкин, полка хранения: 1\n",
      "№: 11-2, тип: invoice, владелец: Геннадий Покемонов, полка хранения: 1\n",
      "№: 10006, тип: insurance, владелец: Аристарх Павлов, полка хранения: 2\n"
     ]
    },
    {
     "name": "stdin",
     "output_type": "stream",
     "text": [
      "Выберите пункт меню:  m\n",
      "Введите номер документа:  10006\n",
      "Введите номер полки, куда хотите переместить документ:  4\n"
     ]
    },
    {
     "name": "stdout",
     "output_type": "stream",
     "text": [
      "Такой полки не существует. Текущий перечень полок: {'3', '1', '2'}\n"
     ]
    },
    {
     "name": "stdin",
     "output_type": "stream",
     "text": [
      "Выберите пункт меню:  m\n",
      "Введите номер документа:  10006\n",
      "Введите номер полки, куда хотите переместить документ:  3\n"
     ]
    },
    {
     "name": "stdout",
     "output_type": "stream",
     "text": [
      "Документ перемещён.\n",
      "Текущий список документов:\n",
      "№: 2207 876234, тип: passport, владелец: Василий Гупкин, полка хранения: 1\n",
      "№: 11-2, тип: invoice, владелец: Геннадий Покемонов, полка хранения: 1\n",
      "№: 10006, тип: insurance, владелец: Аристарх Павлов, полка хранения: 3\n"
     ]
    },
    {
     "name": "stdin",
     "output_type": "stream",
     "text": [
      "Выберите пункт меню:  q\n"
     ]
    },
    {
     "name": "stdout",
     "output_type": "stream",
     "text": [
      "Работа программы завершена!\n"
     ]
    }
   ],
   "source": [
    "documents = [\n",
    "{'type': 'passport', 'number': '2207 876234', 'name': 'Василий Гупкин'},\n",
    "{'type': 'invoice', 'number': '11-2', 'name': 'Геннадий Покемонов'},\n",
    "{'type': 'insurance', 'number': '10006', 'name': 'Аристарх Павлов'}\n",
    "]\n",
    "\n",
    "directories = {\n",
    "'1': ['2207 876234', '11-2'],\n",
    "'2': ['10006'],\n",
    "'3': []\n",
    "}\n",
    "\n",
    "\n",
    "def find_item_value(*param):\n",
    "    collection = param[0]\n",
    "    item = param[1]\n",
    "    found = False\n",
    "    if type(collection) == list:\n",
    "        for i in range(len(collection)):\n",
    "            if item in collection[i].values():\n",
    "                found = True\n",
    "                break\n",
    "            else:\n",
    "                found = False\n",
    "        \n",
    "    elif type(collection) == dict:\n",
    "        for value in collection.values():\n",
    "            if item in value:\n",
    "                found = True\n",
    "                break\n",
    "            else:\n",
    "                found = False\n",
    "    \n",
    "    return found\n",
    "\n",
    "\n",
    "def find_item_key(*param):\n",
    "    collection = param[0]\n",
    "    item = param[1]\n",
    "    found = False\n",
    "    if type(collection) == list:\n",
    "        for i in range(len(collection)):\n",
    "            if item in collection[i].keys():\n",
    "                found = True\n",
    "                break\n",
    "            else:\n",
    "                found = False\n",
    "        \n",
    "    elif type(collection) == dict:\n",
    "        for key in collection.keys():\n",
    "            if item == key:        \n",
    "                found = True\n",
    "                break\n",
    "            else:\n",
    "                found = False\n",
    "    \n",
    "    return found\n",
    "    \n",
    "\n",
    "    \n",
    "def find_name():\n",
    "    number = input('Введите номер документа: ')\n",
    "        \n",
    "    if find_item_value(documents, number) == False:\n",
    "        print ('Документ не найден в базе')\n",
    "\n",
    "        \n",
    "    else:\n",
    "        for document in documents:\n",
    "            if number == document['number']:\n",
    "                print('Владелец документа:', document['name'])\n",
    "                return\n",
    "             \n",
    "\n",
    "\n",
    "def find_shelf(*param):\n",
    "    if len(param) == 0:\n",
    "        number = input('Введите номер документа: ')\n",
    "    else:\n",
    "        number = param[0]\n",
    "    \n",
    "    if find_item_value(directories, number) == False:\n",
    "        print('Документ не найден в базе')\n",
    "        \n",
    "    else:\n",
    "        for shelf, document in directories.items():\n",
    "            if number in document:\n",
    "                if len(param) == 0:\n",
    "                    print('Документ хранится на полке:', shelf)\n",
    "                else:\n",
    "                    return shelf\n",
    "                \n",
    "        \n",
    "def full_info():\n",
    "    for document in documents:\n",
    "        shelf = find_shelf(document['number'])\n",
    "        print('№: ', document['number'], ', тип: ', document['type'], ', владелец: ', document['name'], ', полка хранения: ', shelf, sep='')\n",
    "\n",
    "\n",
    "def add_shelf():\n",
    "    number = input('Введите номер полки: ')\n",
    "    \n",
    "    if find_item_key(directories, number) == True:\n",
    "        print('Такая полка уже существует. Текущий перечень полок:', {key for key in directories.keys()})\n",
    "    \n",
    "    else:\n",
    "        directories[number] = []\n",
    "        print('Полка добавлена. Текущий перечень полок:', {key for key in directories.keys()})\n",
    "\n",
    "        \n",
    "def del_shelf():\n",
    "    number = input('Введите номер полки: ')\n",
    "    \n",
    "    if find_item_key(directories, number) == False:\n",
    "        print('Такой полки не существует. Текущий перечень полок:', {key for key in directories.keys()})\n",
    "        \n",
    "    else:\n",
    "        if number in directories.keys():\n",
    "            if directories[number] == []:\n",
    "                directories.pop(number)\n",
    "                print('Полка удалена. Текущий перечень полок:', {key for key in directories.keys()})\n",
    "            else:\n",
    "                print('На полке есть документ(ы), удалите их перед удалением полки. Текущий перечень полок:', {key for key in directories.keys()})\n",
    "\n",
    "        \n",
    "def add_document():\n",
    "    doc_num = input('Введите номер документа: ')\n",
    "    doc_type = input('Введите тип документа: ')\n",
    "    doc_own = input('Введите владельца документа: ')\n",
    "    doc_shelf = input('Введите полку для хранения: ')\n",
    "    \n",
    "    if find_item_key(directories, doc_shelf) == False:\n",
    "        print('Такой полки не существует. Добавьте полку командой as.')\n",
    "        \n",
    "    else:\n",
    "        documents.append({'type': doc_type, 'number': doc_num, 'name': doc_own})\n",
    "        for shelf, list_doc in directories.items():\n",
    "            if shelf == doc_shelf:\n",
    "                list_doc.append(doc_num)\n",
    "                \n",
    "        print('Документ добавлен.')\n",
    "    \n",
    "    print('Текущий список документов:')\n",
    "    full_info()\n",
    "    \n",
    "        \n",
    "def del_document():\n",
    "    doc_num = input('Введите номер документа: ')\n",
    "    \n",
    "    if find_item_value(documents, doc_num) == False:\n",
    "        print('Документ не найден в базе.')\n",
    "        \n",
    "    else:\n",
    "        for document in documents:\n",
    "            if doc_num == document['number']:\n",
    "                documents.pop(documents.index(document))\n",
    "                \n",
    "        doc_shelf = find_shelf(doc_num)\n",
    "        for shelf, list_doc in directories.items():\n",
    "            if shelf == doc_shelf:\n",
    "                list_doc.remove(doc_num)\n",
    "        print('Документ удалён.')\n",
    "                \n",
    "    print('Текущий список документов: ')\n",
    "    full_info()\n",
    "        \n",
    "        \n",
    "def move_document():\n",
    "    doc_num = input('Введите номер документа: ')\n",
    "    new_shelf = input('Введите номер полки, куда хотите переместить документ: ')\n",
    "    \n",
    "    if find_item_value(documents, doc_num) == False:\n",
    "        print('Документ не найден в базе')\n",
    "        print('Текущий список документов: ')\n",
    "        full_info()\n",
    "        \n",
    "    elif find_item_key(directories, new_shelf) == False:\n",
    "        print('Такой полки не существует. Текущий перечень полок:', {key for key in directories.keys()})\n",
    "        \n",
    "        \n",
    "    else:\n",
    "        old_shelf = find_shelf(doc_num)\n",
    "        directories[old_shelf].remove(doc_num)\n",
    "        directories[new_shelf].append(doc_num)\n",
    "        print('Документ перемещён.\\nТекущий список документов:')\n",
    "        full_info()\n",
    "    \n",
    "        \n",
    "        \n",
    "        \n",
    "print(\"\"\"Меню программы:\n",
    "          p - узнать владельца документа по номеру документа\n",
    "          s - узнать полку хранения документа по номеру документа\n",
    "          l - запрос полной информации по всем документам\n",
    "          as - добавить новую полку в данные\n",
    "          ds - удалить пустую существующую полку из данных\n",
    "          ad - добавить новый документ в данные\n",
    "          d - удалить документ из данных\n",
    "          m - переместить документ с полки на полку\n",
    "          q - завершить работу программы\n",
    "      \"\"\")\n",
    "\n",
    "while True:\n",
    "    select = input('Выберите пункт меню: ')\n",
    "    if select == 'q':\n",
    "        print('Работа программы завершена!')\n",
    "        break\n",
    "        \n",
    "    elif select == 'p':\n",
    "        find_name()\n",
    "        \n",
    "    elif select == 's':\n",
    "        find_shelf()\n",
    "\n",
    "    elif select == 'l':\n",
    "        full_info()\n",
    "    \n",
    "    elif select == 'as':\n",
    "        add_shelf()\n",
    "                \n",
    "    elif select == 'ds':\n",
    "        del_shelf()\n",
    "        \n",
    "    elif select == 'ad':\n",
    "        add_document()\n",
    "        \n",
    "    elif select == 'd':\n",
    "        del_document()\n",
    "        \n",
    "    elif select == 'm':\n",
    "        move_document()\n",
    "              \n",
    "    else:\n",
    "        print('Выберите корректный пункт меню!')\n"
   ]
  }
 ],
 "metadata": {
  "kernelspec": {
   "display_name": "Python 3",
   "language": "python",
   "name": "python3"
  },
  "language_info": {
   "codemirror_mode": {
    "name": "ipython",
    "version": 3
   },
   "file_extension": ".py",
   "mimetype": "text/x-python",
   "name": "python",
   "nbconvert_exporter": "python",
   "pygments_lexer": "ipython3",
   "version": "3.8.5"
  }
 },
 "nbformat": 4,
 "nbformat_minor": 4
}
