{
 "cells": [
  {
   "cell_type": "markdown",
   "metadata": {},
   "source": [
    "## Задание 1\n",
    "**Переведите содержимое файла purchase_log.txt в словарь purchases вида:\n",
    "{‘1840e0b9d4’: ‘Продукты’, …}**"
   ]
  },
  {
   "cell_type": "code",
   "execution_count": 1,
   "metadata": {},
   "outputs": [
    {
     "name": "stdout",
     "output_type": "stream",
     "text": [
      "{'1840e0b9d4': 'Продукты', '4e4f90fcfb': 'Электроника', 'afea8d72fc': 'Электроника', '373a6055fe': 'Бытовая техника', '9b2ab046f3': 'Электроника'}\n"
     ]
    }
   ],
   "source": [
    "import json\n",
    "\n",
    "# Инициализируем пустой словарь\n",
    "purchases = {}\n",
    "\n",
    "with open('purchase_log.txt', 'r', encoding='utf-8') as file:\n",
    "    purch_content = [json.loads(line) for line in file]        # Загружаем содержимое исходного файла в виде списка в переменную purch_content\n",
    "    file.close()\n",
    "\n",
    "for i in range(1, len(purch_content)):              # Для каждого элемента этого списка, исключая header\n",
    "    values = list(purch_content[i].values())        # Из элемента в работе забираем значения у каждого ключа и складываем в список значений\n",
    "    purchases[values[0]] = values[1]                # Стартовый элемент из списка значений станет ключом словаря назначения, а последний элемент - значением\n",
    "    \n",
    "# Для проверки корректности словаря назначения\n",
    "first_five_items = {key: purchases[key] for key in list(purchases)[:5]}\n",
    "print(first_five_items)\n",
    "    \n",
    "# Я не была уверена, необходимо ли записать словарь потом в файл или можно было оставить как есть, но на всякий случай записала в файл \n",
    "with open('purchases.txt', 'w', encoding='utf-8') as purch_file:\n",
    "    #purch_file.write(json.dumps(purchases))\n",
    "    purch_file.write(str(purchases))             # Перевела словарь в строку, которую затем записала в файл назначения\n",
    "    purch_file.close()                           # Закрыла файл назначения\n",
    "\n",
    "\n",
    "# Альтернативно можно было использовать метод json.dumps(purchases) вместо str(purchases), но при открытии файла назначения элементы в словаре отображались\n",
    "# в виде \"1840e0b9d4\": \"\\u041f\\u0440\\u043e\\u0434\\u0443\\u043a\\u0442\\u044b\"\n"
   ]
  },
  {
   "cell_type": "markdown",
   "metadata": {},
   "source": [
    "## Задание 2\n",
    "**Для каждого user_id в файле visit_log.csv определите третий столбец с категорией покупки (если покупка была, сам файл visit_log.csv изменять не надо). Запишите в файл funnel.csv визиты из файла visit_log.csv, в которых были покупки с указанием категории.**"
   ]
  },
  {
   "cell_type": "code",
   "execution_count": 2,
   "metadata": {},
   "outputs": [],
   "source": [
    "import json\n",
    "\n",
    "# Инициализируем пустой словарь, в который потом сложим userid как ключи и category как значения\n",
    "purchases = {}\n",
    "with open('purchase_log.txt', 'r', encoding='utf-8') as purch_file:\n",
    "    next(purch_file)                                              # Пропускаем header\n",
    "    for purch_line in purch_file:                                 # Обрабатываем исходный файл построчно\n",
    "        purch_line = purch_line.strip()\n",
    "        purch_dict = json.loads(purch_line)                       # Переводим строку в словарь\n",
    "        values_list = list(purch_dict.values())                   # Из строки забираем значения у каждого ключа и складываем в список значений\n",
    "        purchases[values_list[0]] = values_list[1]                # Стартовый элемент из списка значений станет ключом словаря назначения, а последний элемент - значением\n",
    "        \n",
    "    purch_file.close()\n",
    "\n",
    "\n",
    "with open('visit_log.csv', 'r', encoding='utf-8') as visit_file:\n",
    "    funnel = open('funnel.csv', 'w', encoding='utf-8')            # Создаем новый файл funnel.csv, в который будем записывать визиты с покупками\n",
    "    funnel.write('user_id,source,category\\n')                     # Добавляем header\n",
    "    \n",
    "    for visit_line in visit_file:                                 # Для каждой строки в файле visit_log.csv\n",
    "        line = visit_line.strip().split(',')                      # Превращаем строку в список, состоящий из значений, разделенных запятой\n",
    "       \n",
    "        if line[0] in purchases.keys():                           # Если первое значение в этом списке присутствует в ключах словаря purchases\n",
    "            # Создаем строку, содержащую userid, source и category\n",
    "            line = str(line[0]) + ',' + str(line[1]) + ',' + purchases[line[0]] + '\\n'\n",
    "            funnel.write(line)                                    # Записываем эту строку в файл funnel.csv\n",
    "        else:                                                     # Если не присутствует\n",
    "            continue                                              # Пропускаем строку\n",
    "    \n",
    "    funnel.close()\n",
    "    visit_file.close()"
   ]
  }
 ],
 "metadata": {
  "kernelspec": {
   "display_name": "Python 3",
   "language": "python",
   "name": "python3"
  },
  "language_info": {
   "codemirror_mode": {
    "name": "ipython",
    "version": 3
   },
   "file_extension": ".py",
   "mimetype": "text/x-python",
   "name": "python",
   "nbconvert_exporter": "python",
   "pygments_lexer": "ipython3",
   "version": "3.8.5"
  }
 },
 "nbformat": 4,
 "nbformat_minor": 4
}
