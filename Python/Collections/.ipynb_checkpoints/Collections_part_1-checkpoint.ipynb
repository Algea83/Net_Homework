{
 "cells": [
  {
   "cell_type": "markdown",
   "metadata": {},
   "source": [
    "## Задание 1\n",
    "**Дана переменная, в которой хранится слово из латинских букв. Напишите код, который выводит на экран:**\n",
    "\n",
    "- **среднюю букву, если число букв в слове нечетное;**\n",
    "- **две средних буквы, если число букв четное.**"
   ]
  },
  {
   "cell_type": "code",
   "execution_count": 1,
   "metadata": {},
   "outputs": [
    {
     "name": "stdin",
     "output_type": "stream",
     "text": [
      "Введите слово из латинских букв:  test\n"
     ]
    },
    {
     "name": "stdout",
     "output_type": "stream",
     "text": [
      "es\n"
     ]
    }
   ],
   "source": [
    "# Инициализируем пользовательский ввод\n",
    "word = input(\"Введите слово из латинских букв: \")\n",
    "\n",
    "# Превращаем строку в список символов\n",
    "list_word = list(word)\n",
    "\n",
    "# Находим середину списка\n",
    "letter_index = int(len(list_word)/2)\n",
    "\n",
    "if len(list_word)%2 != 0:\n",
    "    print(list_word[letter_index])\n",
    "else:\n",
    "    print(list_word[letter_index - 1] + list_word[letter_index])\n",
    "    \n",
    "# Решение не кажется мне элегантным, но оно рабочее."
   ]
  },
  {
   "cell_type": "markdown",
   "metadata": {},
   "source": [
    "## Задание 2\n",
    "**Напишите программу, которая последовательно запрашивает у пользователя числа (по одному за раз) и после первого нуля выводит сумму всех ранее введенных чисел.**"
   ]
  },
  {
   "cell_type": "code",
   "execution_count": 2,
   "metadata": {},
   "outputs": [
    {
     "name": "stdin",
     "output_type": "stream",
     "text": [
      "Введите число:  1\n",
      "Введите число:  4\n",
      "Введите число:  6\n",
      "Введите число:  0\n"
     ]
    },
    {
     "name": "stdout",
     "output_type": "stream",
     "text": [
      "Сумма введенных чисел:  11.0\n"
     ]
    }
   ],
   "source": [
    "# Инициализируем пустой список для хранения введенных чисел\n",
    "list_number = []\n",
    "\n",
    "# Цикл всегда будет выполняться, пока введенное число не будет равно 0\n",
    "while True:\n",
    "    number = float(input(\"Введите число: \"))\n",
    "    list_number.append(number)               # добавляем введенное число в конец списка\n",
    "    \n",
    "# Если введенное число равно нулю, суммируем элементы списка и выводим сумму на экран\n",
    "    if number == 0:\n",
    "        sum_number = sum(list_number)\n",
    "        print(\"Сумма введенных чисел: \", sum_number)\n",
    "        break           # Выводим программу из цикла"
   ]
  },
  {
   "cell_type": "markdown",
   "metadata": {},
   "source": [
    "## Задание 3\n",
    "**Мы делаем MVP dating-сервиса, и у нас есть список парней и девушек.\n",
    "Выдвигаем гипотезу: лучшие рекомендации мы получим, если просто отсортируем имена по алфавиту и познакомим людей с одинаковыми индексами после сортировки! Но мы не будем никого знакомить, если кто-то может остаться без пары**"
   ]
  },
  {
   "cell_type": "code",
   "execution_count": 3,
   "metadata": {},
   "outputs": [
    {
     "name": "stdout",
     "output_type": "stream",
     "text": [
      "Идеальные пары: \n",
      "Alex и Emma\n",
      "Arthur и Kate\n",
      "John и Kira\n",
      "Peter и Liza\n",
      "Richard и Trisha\n"
     ]
    }
   ],
   "source": [
    "girls_list = ['Kate', 'Liza', 'Kira', 'Emma', 'Trisha']\n",
    "boys_list = ['Peter', 'Alex', 'John', 'Arthur', 'Richard']\n",
    "\n",
    "if len(girls_list) == len(boys_list):\n",
    "    girls_list.sort()\n",
    "    boys_list.sort()\n",
    "    print(\"Идеальные пары: \")\n",
    "    for boy, girl in list(zip(boys_list, girls_list)):\n",
    "        print(boy, \"и\", girl)\n",
    "\n",
    "else:\n",
    "    print(\"Внимание, кто-то может остаться без пары!\")"
   ]
  },
  {
   "cell_type": "markdown",
   "metadata": {},
   "source": [
    "## Задание 4\n",
    "**У нас есть список, содержащий информацию о среднедневной температуре в Фаренгейтах за произвольный период по странам (структура данных в примере). Необходимо написать код, который рассчитает среднюю температуру за период в Цельсиях(!) для каждой страны.**"
   ]
  },
  {
   "cell_type": "code",
   "execution_count": 4,
   "metadata": {},
   "outputs": [
    {
     "name": "stdout",
     "output_type": "stream",
     "text": [
      "Средняя температура в странах:\n",
      "Thailand: 23.9\n",
      "Germany: 13.8\n",
      "Russia: 3.7\n",
      "Poland: 12.0\n",
      "\n",
      "\n",
      "Средняя температура в странах (альтернативно):\n",
      "Thailand: 23.9\n",
      "Germany: 13.8\n",
      "Russia: 3.7\n",
      "Poland: 12.0\n"
     ]
    }
   ],
   "source": [
    "countries_temperature = [\n",
    "['Thailand', [75.2, 77, 78.8, 73.4, 68, 75.2, 77]],\n",
    "['Germany', [57.2, 55.4, 59, 59, 53.6]],\n",
    "['Russia', [35.6, 37.4, 39.2, 41, 42.8, 39.2, 35.6]],\n",
    "['Poland', [50, 50, 53.6, 57.2, 55.4, 55.4]]\n",
    "]\n",
    "\n",
    "print(\"Средняя температура в странах:\")\n",
    "# Для каждого элемента из изначального списка\n",
    "for country in countries_temperature:\n",
    "    # Генерируем индексацию для итерации температур, используя функцию range(), примененную к длине списка температур\n",
    "    for index in range(len(country[1])):\n",
    "        # Пересчитываем и заменяем значение каждой температуры в Фаренгейтах на температуру в Цельсиях\n",
    "        country[1][index] = (country[1][index] - 32) * 5 / 9\n",
    "    # Рассчитываем среднее значение по списку температур, оперируя функцией суммы и длины списка, округляем до одного знака после запятой\n",
    "    avg_temp = round(sum(country[1])/len(country[1]), 1)\n",
    "\n",
    "    print(country[0] + \":\", avg_temp)\n",
    "\n",
    "    \n",
    "# Альтернативно без замены температур в оригинальном списке\n",
    "countries_temperature = [\n",
    "['Thailand', [75.2, 77, 78.8, 73.4, 68, 75.2, 77]],\n",
    "['Germany', [57.2, 55.4, 59, 59, 53.6]],\n",
    "['Russia', [35.6, 37.4, 39.2, 41, 42.8, 39.2, 35.6]],\n",
    "['Poland', [50, 50, 53.6, 57.2, 55.4, 55.4]]\n",
    "]\n",
    "\n",
    "print(\"\\n\")\n",
    "print(\"Средняя температура в странах (альтернативно):\")\n",
    "for country in countries_temperature:\n",
    "    sum_f = sum(country[1])\n",
    "    avg_sum_f = sum_f / len(country[1])\n",
    "    avg_sum_c = round((avg_sum_f - 32) * 5 / 9 , 1)\n",
    "    print(country[0] + \":\", avg_sum_c)"
   ]
  },
  {
   "cell_type": "markdown",
   "metadata": {},
   "source": [
    "## Задание 5 (необязательное)\n",
    "**Дан поток логов по количеству просмотренных страниц для каждого пользователя. Вам необходимо написать алгоритм, который считает среднее значение просмотров на пользователя. Т. е. надо посчитать отношение суммы всех просмотров к количеству уникальных пользователей.**"
   ]
  },
  {
   "cell_type": "code",
   "execution_count": 5,
   "metadata": {},
   "outputs": [
    {
     "name": "stdout",
     "output_type": "stream",
     "text": [
      "23.25\n"
     ]
    }
   ],
   "source": [
    "stream = [\n",
    "'2018-01-01,user1,3',\n",
    "'2018-01-07,user1,4',\n",
    "'2018-03-29,user1,1',\n",
    "'2018-04-04,user1,13',\n",
    "'2018-01-05,user2,7',\n",
    "'2018-06-14,user3,4',\n",
    "'2018-07-02,user3,10',\n",
    "'2018-03-21,user4,19',\n",
    "'2018-03-22,user4,4',\n",
    "'2018-04-22,user4,8',\n",
    "'2018-05-03,user4,9',\n",
    "'2018-05-11,user4,11',\n",
    "]\n",
    "\n",
    "# Обрабатываем изначальный список так, чтобы вместо списка строк, он стал списком списков, где внутри каждого вложенного\n",
    "# списка содержалась отдельно иформация по дате, ИД пользователя и кол-ву просмотров для каждого пользователя\n",
    "stream_listed = []\n",
    "for element in stream:\n",
    "    listed_element = element.split(',')\n",
    "    stream_listed.append(listed_element)        # Новый список списков\n",
    "    for i in range(len(stream_listed)):\n",
    "        stream_listed[i][-1] = int(stream_listed[i][-1])        # Заменяем тип данных в кол-ве просмотров на целое число\n",
    "        \n",
    "\n",
    "# Находим общее кол-во просмотров для всех пользователей\n",
    "sum_total = sum(entry[-1] for entry in stream_listed)\n",
    "\n",
    "# Составляем список пользователей\n",
    "stream_user = []\n",
    "for element in stream_listed:\n",
    "    stream_user.append(element[1])\n",
    "\n",
    "# Составляем список уникальных пользователей\n",
    "unique_user = []\n",
    "for user in stream_user:\n",
    "    if unique_user.count(user) == 0:        # Если такого пользователя еще нет в этом списке\n",
    "        unique_user.append(user)            # Добавляем в список уникальных пользователей нового пользователя\n",
    "\n",
    "average_views = sum_total / len(unique_user)    # Среднее кол-во просмотров = общее кол-во просмотров / кол-во уникальных пользователей\n",
    "print(average_views)\n",
    "\n"
   ]
  },
  {
   "cell_type": "markdown",
   "metadata": {},
   "source": [
    "## Задание 6 (необязательное)\n",
    "**Необходимо у пользователя запрашивать набор чисел разделенных пробелом. В результате должны выводиться числа, которые повторяются в вводе более одного раза.**"
   ]
  },
  {
   "cell_type": "code",
   "execution_count": 6,
   "metadata": {},
   "outputs": [
    {
     "name": "stdin",
     "output_type": "stream",
     "text": [
      "Введите серию чисел, разделяя их пробелом:  1 1 2 2 3 3\n"
     ]
    },
    {
     "name": "stdout",
     "output_type": "stream",
     "text": [
      "Числа, повторяющиеся в вводе более одного раза: {1, 2, 3}\n"
     ]
    }
   ],
   "source": [
    "# Инициализируем пользовательский ввод с разделителем пробел\n",
    "numbers_string = input(\"Введите серию чисел, разделяя их пробелом: \")\n",
    "\n",
    "numbers_list = numbers_string.split(' ')        # Преобразуем пользовательский ввод в список\n",
    "\n",
    "for i in range(len(numbers_list)):\n",
    "    numbers_list[i] = int(numbers_list[i])        # Преобразуем элементы списка из строки в целое число\n",
    "    \n",
    "repeat_numbers = []            # Инициализируем пустой список, в котором будут содержаться повторные номера\n",
    "for element in numbers_list:\n",
    "    if numbers_list.count(element) > 1:\n",
    "        repeat_numbers.append(element)        # Добавляем в этот список номера, которые встречаются в оригинальном списке более одного раза\n",
    "\n",
    "unique_numbers = set(repeat_numbers)        # Превращаем этот список в сет, который будет содержать только уникальные числа\n",
    "print(\"Числа, повторяющиеся в вводе более одного раза:\", unique_numbers)"
   ]
  }
 ],
 "metadata": {
  "kernelspec": {
   "display_name": "Python 3",
   "language": "python",
   "name": "python3"
  },
  "language_info": {
   "codemirror_mode": {
    "name": "ipython",
    "version": 3
   },
   "file_extension": ".py",
   "mimetype": "text/x-python",
   "name": "python",
   "nbconvert_exporter": "python",
   "pygments_lexer": "ipython3",
   "version": "3.8.5"
  }
 },
 "nbformat": 4,
 "nbformat_minor": 4
}
