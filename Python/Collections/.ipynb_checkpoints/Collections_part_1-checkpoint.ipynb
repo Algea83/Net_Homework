{
 "cells": [
  {
   "cell_type": "markdown",
   "metadata": {},
   "source": [
    "## Задание 1\n",
    "**Дана переменная, в которой хранится слово из латинских букв. Напишите код, который выводит на экран:**\n",
    "\n",
    "- **среднюю букву, если число букв в слове нечетное;**\n",
    "- **две средних буквы, если число букв четное.**"
   ]
  },
  {
   "cell_type": "code",
   "execution_count": 2,
   "metadata": {},
   "outputs": [
    {
     "name": "stdin",
     "output_type": "stream",
     "text": [
      "Введите слово из латинских букв:  testing\n"
     ]
    },
    {
     "name": "stdout",
     "output_type": "stream",
     "text": [
      "t\n"
     ]
    }
   ],
   "source": [
    "# Инициализируем пользовательский ввод\n",
    "word = input(\"Введите слово из латинских букв: \")\n",
    "\n",
    "# Превращаем строку в список символов\n",
    "list_word = list(word)\n",
    "\n",
    "# Находим середину списка\n",
    "letter_index = int(len(list_word)/2)\n",
    "\n",
    "if len(list_word)%2 != 0:\n",
    "    print(list_word[letter_index])\n",
    "else:\n",
    "    print(list_word[letter_index - 1] + list_word[letter_index])\n",
    "    \n",
    "# Решение не кажется мне элегантным, но оно рабочее."
   ]
  },
  {
   "cell_type": "markdown",
   "metadata": {},
   "source": [
    "## Задание 2\n",
    "**Напишите программу, которая последовательно запрашивает у пользователя числа (по одному за раз) и после первого нуля выводит сумму всех ранее введенных чисел.**"
   ]
  },
  {
   "cell_type": "code",
   "execution_count": 2,
   "metadata": {},
   "outputs": [
    {
     "name": "stdin",
     "output_type": "stream",
     "text": [
      "Введите число:  0\n"
     ]
    },
    {
     "name": "stdout",
     "output_type": "stream",
     "text": [
      "Сумма введенных чисел:  0.0\n"
     ]
    }
   ],
   "source": [
    "# Инициализируем пустой список для хранения введенных чисел\n",
    "list_number = []\n",
    "\n",
    "# Цикл всегда будет выполняться, пока введенное число не будет равно 0\n",
    "while True:\n",
    "    number = float(input(\"Введите число: \"))\n",
    "    list_number.append(number)               # добавляем введенное число в конец списка\n",
    "    \n",
    "# Если введенное число равно нулю, суммируем элементы списка и выводим сумму на экран\n",
    "    if number == 0:\n",
    "        sum_number = sum(list_number)\n",
    "        print(\"Сумма введенных чисел: \", sum_number)\n",
    "        break           # Выводим программу из цикла"
   ]
  },
  {
   "cell_type": "markdown",
   "metadata": {},
   "source": [
    "## Задание 3\n",
    "**Мы делаем MVP dating-сервиса, и у нас есть список парней и девушек.\n",
    "Выдвигаем гипотезу: лучшие рекомендации мы получим, если просто отсортируем имена по алфавиту и познакомим людей с одинаковыми индексами после сортировки! Но мы не будем никого знакомить, если кто-то может остаться без пары**"
   ]
  },
  {
   "cell_type": "code",
   "execution_count": 1,
   "metadata": {},
   "outputs": [
    {
     "name": "stdout",
     "output_type": "stream",
     "text": [
      "Идеальные пары: \n",
      "Alex и Emma\n",
      "Arthur и Kate\n",
      "John и Kira\n",
      "Peter и Liza\n",
      "Richard и Trisha\n"
     ]
    }
   ],
   "source": [
    "girls_list = ['Kate', 'Liza', 'Kira', 'Emma', 'Trisha']\n",
    "boys_list = ['Peter', 'Alex', 'John', 'Arthur', 'Richard']\n",
    "\n",
    "if len(girls_list) == len(boys_list):\n",
    "    girls_list.sort()\n",
    "    boys_list.sort()\n",
    "    print(\"Идеальные пары: \")\n",
    "    for boy, girl in list(zip(boys_list, girls_list)):\n",
    "        print(boy, \"и\", girl)\n",
    "\n",
    "else:\n",
    "    print(\"Внимание, кто-то может остаться без пары!\")"
   ]
  },
  {
   "cell_type": "markdown",
   "metadata": {},
   "source": [
    "## Задание 4\n",
    "**У нас есть список, содержащий информацию о среднедневной температуре в Фаренгейтах за произвольный период по странам (структура данных в примере). Необходимо написать код, который рассчитает среднюю температуру за период в Цельсиях(!) для каждой страны.**"
   ]
  },
  {
   "cell_type": "code",
   "execution_count": null,
   "metadata": {},
   "outputs": [],
   "source": []
  }
 ],
 "metadata": {
  "kernelspec": {
   "display_name": "Python 3",
   "language": "python",
   "name": "python3"
  },
  "language_info": {
   "codemirror_mode": {
    "name": "ipython",
    "version": 3
   },
   "file_extension": ".py",
   "mimetype": "text/x-python",
   "name": "python",
   "nbconvert_exporter": "python",
   "pygments_lexer": "ipython3",
   "version": "3.8.5"
  }
 },
 "nbformat": 4,
 "nbformat_minor": 4
}
